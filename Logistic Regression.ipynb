{
 "cells": [
  {
   "cell_type": "code",
   "execution_count": 30,
   "id": "b7b39e37",
   "metadata": {},
   "outputs": [],
   "source": [
    "import pandas as pd"
   ]
  },
  {
   "cell_type": "code",
   "execution_count": 31,
   "id": "48e3b02a",
   "metadata": {},
   "outputs": [],
   "source": [
    "from sklearn.preprocessing import LabelEncoder"
   ]
  },
  {
   "cell_type": "code",
   "execution_count": 32,
   "id": "4d021e3f",
   "metadata": {},
   "outputs": [],
   "source": [
    "dp = pd.read_csv(\"newinjuryData.csv\")"
   ]
  },
  {
   "cell_type": "code",
   "execution_count": 33,
   "id": "50d438bf",
   "metadata": {},
   "outputs": [],
   "source": [
    "dp = dp.drop(columns=['Unnamed: 0'])"
   ]
  },
  {
   "cell_type": "code",
   "execution_count": 34,
   "id": "d1b56ce7",
   "metadata": {},
   "outputs": [],
   "source": [
    "dp.to_csv('data.csv')"
   ]
  },
  {
   "cell_type": "code",
   "execution_count": 35,
   "id": "e2d7b789",
   "metadata": {},
   "outputs": [],
   "source": [
    "col_names = ['Skill Level','Injured Before','Age', 'Gender', 'Activity', 'Injury type']"
   ]
  },
  {
   "cell_type": "code",
   "execution_count": 36,
   "id": "d28d7edd",
   "metadata": {},
   "outputs": [],
   "source": [
    "classTree = pd.read_csv(\"data.csv\", header=None, names=col_names)"
   ]
  },
  {
   "cell_type": "code",
   "execution_count": 37,
   "id": "70c4a04b",
   "metadata": {},
   "outputs": [],
   "source": [
    "classTree = classTree.iloc[1: , :]"
   ]
  },
  {
   "cell_type": "code",
   "execution_count": 38,
   "id": "c7f6b18c",
   "metadata": {},
   "outputs": [],
   "source": [
    "labelencoder = LabelEncoder()\n",
    "classTree['Gender'] = labelencoder.fit_transform(classTree['Gender'])\n",
    "classTree['Skill Level'] = labelencoder.fit_transform(classTree['Skill Level'])\n",
    "classTree['Injured Before'] = labelencoder.fit_transform(classTree['Injured Before'])\n",
    "classTree['Activity'] = labelencoder.fit_transform(classTree['Activity'])\n",
    "classTree['Age'] = labelencoder.fit_transform(classTree['Age'])\n",
    "classTree['Injury type'] = labelencoder.fit_transform(classTree['Injury type'])"
   ]
  },
  {
   "cell_type": "code",
   "execution_count": 39,
   "id": "66b440f2",
   "metadata": {},
   "outputs": [
    {
     "data": {
      "text/html": [
       "<div>\n",
       "<style scoped>\n",
       "    .dataframe tbody tr th:only-of-type {\n",
       "        vertical-align: middle;\n",
       "    }\n",
       "\n",
       "    .dataframe tbody tr th {\n",
       "        vertical-align: top;\n",
       "    }\n",
       "\n",
       "    .dataframe thead th {\n",
       "        text-align: right;\n",
       "    }\n",
       "</style>\n",
       "<table border=\"1\" class=\"dataframe\">\n",
       "  <thead>\n",
       "    <tr style=\"text-align: right;\">\n",
       "      <th></th>\n",
       "      <th>Skill Level</th>\n",
       "      <th>Injured Before</th>\n",
       "      <th>Age</th>\n",
       "      <th>Gender</th>\n",
       "      <th>Activity</th>\n",
       "      <th>Injury type</th>\n",
       "    </tr>\n",
       "  </thead>\n",
       "  <tbody>\n",
       "    <tr>\n",
       "      <th>0.0</th>\n",
       "      <td>2</td>\n",
       "      <td>0</td>\n",
       "      <td>2</td>\n",
       "      <td>0</td>\n",
       "      <td>4</td>\n",
       "      <td>0</td>\n",
       "    </tr>\n",
       "    <tr>\n",
       "      <th>1.0</th>\n",
       "      <td>2</td>\n",
       "      <td>0</td>\n",
       "      <td>4</td>\n",
       "      <td>0</td>\n",
       "      <td>9</td>\n",
       "      <td>3</td>\n",
       "    </tr>\n",
       "    <tr>\n",
       "      <th>2.0</th>\n",
       "      <td>0</td>\n",
       "      <td>0</td>\n",
       "      <td>1</td>\n",
       "      <td>0</td>\n",
       "      <td>0</td>\n",
       "      <td>0</td>\n",
       "    </tr>\n",
       "    <tr>\n",
       "      <th>3.0</th>\n",
       "      <td>1</td>\n",
       "      <td>1</td>\n",
       "      <td>1</td>\n",
       "      <td>1</td>\n",
       "      <td>8</td>\n",
       "      <td>1</td>\n",
       "    </tr>\n",
       "    <tr>\n",
       "      <th>4.0</th>\n",
       "      <td>1</td>\n",
       "      <td>1</td>\n",
       "      <td>3</td>\n",
       "      <td>1</td>\n",
       "      <td>7</td>\n",
       "      <td>0</td>\n",
       "    </tr>\n",
       "    <tr>\n",
       "      <th>...</th>\n",
       "      <td>...</td>\n",
       "      <td>...</td>\n",
       "      <td>...</td>\n",
       "      <td>...</td>\n",
       "      <td>...</td>\n",
       "      <td>...</td>\n",
       "    </tr>\n",
       "    <tr>\n",
       "      <th>9995.0</th>\n",
       "      <td>2</td>\n",
       "      <td>1</td>\n",
       "      <td>1</td>\n",
       "      <td>1</td>\n",
       "      <td>11</td>\n",
       "      <td>4</td>\n",
       "    </tr>\n",
       "    <tr>\n",
       "      <th>9996.0</th>\n",
       "      <td>1</td>\n",
       "      <td>0</td>\n",
       "      <td>3</td>\n",
       "      <td>0</td>\n",
       "      <td>2</td>\n",
       "      <td>3</td>\n",
       "    </tr>\n",
       "    <tr>\n",
       "      <th>9997.0</th>\n",
       "      <td>2</td>\n",
       "      <td>1</td>\n",
       "      <td>3</td>\n",
       "      <td>0</td>\n",
       "      <td>1</td>\n",
       "      <td>4</td>\n",
       "    </tr>\n",
       "    <tr>\n",
       "      <th>9998.0</th>\n",
       "      <td>0</td>\n",
       "      <td>0</td>\n",
       "      <td>0</td>\n",
       "      <td>1</td>\n",
       "      <td>1</td>\n",
       "      <td>3</td>\n",
       "    </tr>\n",
       "    <tr>\n",
       "      <th>9999.0</th>\n",
       "      <td>1</td>\n",
       "      <td>0</td>\n",
       "      <td>4</td>\n",
       "      <td>1</td>\n",
       "      <td>4</td>\n",
       "      <td>0</td>\n",
       "    </tr>\n",
       "  </tbody>\n",
       "</table>\n",
       "<p>10000 rows × 6 columns</p>\n",
       "</div>"
      ],
      "text/plain": [
       "        Skill Level  Injured Before  Age  Gender  Activity  Injury type\n",
       "0.0               2               0    2       0         4            0\n",
       "1.0               2               0    4       0         9            3\n",
       "2.0               0               0    1       0         0            0\n",
       "3.0               1               1    1       1         8            1\n",
       "4.0               1               1    3       1         7            0\n",
       "...             ...             ...  ...     ...       ...          ...\n",
       "9995.0            2               1    1       1        11            4\n",
       "9996.0            1               0    3       0         2            3\n",
       "9997.0            2               1    3       0         1            4\n",
       "9998.0            0               0    0       1         1            3\n",
       "9999.0            1               0    4       1         4            0\n",
       "\n",
       "[10000 rows x 6 columns]"
      ]
     },
     "execution_count": 39,
     "metadata": {},
     "output_type": "execute_result"
    }
   ],
   "source": [
    "classTree"
   ]
  },
  {
   "cell_type": "code",
   "execution_count": 40,
   "id": "b905dbbb",
   "metadata": {},
   "outputs": [],
   "source": [
    "feature_cols = ['Skill Level','Injured Before','Age','Gender','Activity']\n",
    "target_cols = ['Injury type']\n",
    "X = classTree[feature_cols]\n",
    "y = classTree[target_cols]"
   ]
  },
  {
   "cell_type": "code",
   "execution_count": 41,
   "id": "d2994d12",
   "metadata": {},
   "outputs": [],
   "source": [
    "from sklearn.model_selection import train_test_split\n",
    "X_train,X_test,y_train,y_test=train_test_split(X,y,test_size=0.25,random_state=0)"
   ]
  },
  {
   "cell_type": "code",
   "execution_count": 42,
   "id": "5c3b5560",
   "metadata": {},
   "outputs": [],
   "source": [
    "from sklearn.linear_model import LogisticRegression"
   ]
  },
  {
   "cell_type": "code",
   "execution_count": 43,
   "id": "0dfe901c",
   "metadata": {},
   "outputs": [],
   "source": [
    "logreg = LogisticRegression()"
   ]
  },
  {
   "cell_type": "code",
   "execution_count": 44,
   "id": "8d84838b",
   "metadata": {},
   "outputs": [
    {
     "data": {
      "text/plain": [
       "LogisticRegression()"
      ]
     },
     "execution_count": 44,
     "metadata": {},
     "output_type": "execute_result"
    }
   ],
   "source": [
    "logreg.fit(X_train,y_train.values.reshape(-1,))"
   ]
  },
  {
   "cell_type": "code",
   "execution_count": 45,
   "id": "dcc9de78",
   "metadata": {},
   "outputs": [],
   "source": [
    "y_pred=logreg.predict(X_test)"
   ]
  },
  {
   "cell_type": "code",
   "execution_count": 46,
   "id": "bea0e2de",
   "metadata": {},
   "outputs": [],
   "source": [
    "from sklearn import metrics"
   ]
  },
  {
   "cell_type": "code",
   "execution_count": 47,
   "id": "1b953521",
   "metadata": {},
   "outputs": [
    {
     "name": "stdout",
     "output_type": "stream",
     "text": [
      "Accuracy: 0.2072\n"
     ]
    }
   ],
   "source": [
    "print(\"Accuracy:\",metrics.accuracy_score(y_test, y_pred))"
   ]
  },
  {
   "cell_type": "code",
   "execution_count": 48,
   "id": "32846ef9",
   "metadata": {},
   "outputs": [],
   "source": [
    "import numpy as np\n",
    "import seaborn as sns\n",
    "import matplotlib.pyplot as plt\n",
    "from sklearn.metrics import confusion_matrix"
   ]
  },
  {
   "cell_type": "code",
   "execution_count": 49,
   "id": "f67bd679",
   "metadata": {},
   "outputs": [],
   "source": [
    "#I used this to draw the confusion matrix\n",
    "#https://www.analyticsvidhya.com/blog/2021/06/confusion-matrix-for-multi-class-classification/#:~:text=The%20confusion%20matrix%20is%20a,an"
   ]
  },
  {
   "cell_type": "code",
   "execution_count": 50,
   "id": "32cd195c",
   "metadata": {},
   "outputs": [],
   "source": [
    "cm = confusion_matrix(y_test, y_pred)"
   ]
  },
  {
   "cell_type": "code",
   "execution_count": 51,
   "id": "38c71fa4",
   "metadata": {},
   "outputs": [],
   "source": [
    "cm_df = pd.DataFrame(cm,\n",
    "                     index = ['Lower Back Pain','Plantar Fasciitis','Shin Splints','Sprains','Strains'], \n",
    "                     columns = ['Lower Back Pain','Plantar Fasciitis','Shin Splints','Sprains','Strains'])"
   ]
  },
  {
   "cell_type": "code",
   "execution_count": 52,
   "id": "32c69e38",
   "metadata": {},
   "outputs": [
    {
     "data": {
      "image/png": "[encoded data removed]",
      "text/plain": [
       "<Figure size 360x360 with 2 Axes>"
      ]
     },
     "metadata": {
      "needs_background": "light"
     },
     "output_type": "display_data"
    }
   ],
   "source": [
    "#Plotting the confusion matrix\n",
    "plt.figure(figsize=(5,5))\n",
    "sns.heatmap(cm_df, annot=True,fmt=\"d\")\n",
    "plt.title('Confusion Matrix')\n",
    "plt.ylabel('Actal Values')\n",
    "plt.xlabel('Predicted Values')\n",
    "plt.show()"
   ]
  },
  {
   "cell_type": "code",
   "execution_count": null,
   "id": "993beeb9",
   "metadata": {},
   "outputs": [],
   "source": []
  }
 ],
 "metadata": {
  "kernelspec": {
   "display_name": "Python 3",
   "language": "python",
   "name": "python3"
  },
  "language_info": {
   "codemirror_mode": {
    "name": "ipython",
    "version": 3
   },
   "file_extension": ".py",
   "mimetype": "text/x-python",
   "name": "python",
   "nbconvert_exporter": "python",
   "pygments_lexer": "ipython3",
   "version": "3.8.8"
  }
 },
 "nbformat": 4,
 "nbformat_minor": 5
}
